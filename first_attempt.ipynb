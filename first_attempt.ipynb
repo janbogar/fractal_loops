{
 "cells": [
  {
   "cell_type": "code",
   "execution_count": 48,
   "id": "6d574ba3",
   "metadata": {},
   "outputs": [],
   "source": [
    "import numpy as np\n",
    "import matplotlib.pyplot as plt\n",
    "from tqdm import trange"
   ]
  },
  {
   "cell_type": "code",
   "execution_count": 80,
   "id": "1b62db54",
   "metadata": {},
   "outputs": [
    {
     "data": {
      "text/plain": [
       "0.53"
      ]
     },
     "execution_count": 80,
     "metadata": {},
     "output_type": "execute_result"
    }
   ],
   "source": [
    "s1=0.53  # scaling during each step\n",
    "a=1 # length of the loop's arm\n",
    "\n",
    "s1"
   ]
  },
  {
   "cell_type": "code",
   "execution_count": 81,
   "id": "ad8db57d",
   "metadata": {},
   "outputs": [],
   "source": [
    "assert s1>0.5"
   ]
  },
  {
   "cell_type": "code",
   "execution_count": 82,
   "id": "bd4d1f5f",
   "metadata": {},
   "outputs": [],
   "source": [
    "def affine_transform(M,v):\n",
    "    \"\"\"Construct matrix for 2D affine transform from 2x2 matrix M and 2x1 vector v.\n",
    "    The output is a 3x3 matrix M_af. The output of the affine transform is defined as:\n",
    "    \n",
    "    M*[[x1],[y1]] + v = [[x2],[y2]]\n",
    "    \n",
    "    Which is equivalent to (using M_af):\n",
    "    \n",
    "    M_af*[[x1],[y1],[1]]=[[x2],[y2],[1]]\n",
    "    \"\"\"\n",
    "    result=np.zeros(shape=(3,3))\n",
    "    # put the matrix M into top-left corner\n",
    "    result[0:2,0:2]=M\n",
    "    # put the vector v into top of the last column\n",
    "    result[0:2,-1]=v\n",
    "    # set last diagonal element to 1\n",
    "    result[-1,-1]=1\n",
    "    return np.matrix(result)"
   ]
  },
  {
   "cell_type": "code",
   "execution_count": 83,
   "id": "3b85854a",
   "metadata": {},
   "outputs": [],
   "source": [
    "s2=(2*s1-1)*a  # loops on the corners of the \"inverted loop\" must be smaller\n",
    "a2b=s1/(2*s2)  # ratio of the square loop to the arm, this value guarantees that an \"inverted loop\" has the same size as the original loop\n",
    "\n",
    "S1=np.matrix(np.eye(2)*s1) # scaling matrices\n",
    "S2=np.matrix(np.eye(2)*s2)\n",
    "R=np.matrix([[0,-1],[1,0]]) # 90° counterclockwise rotation \n",
    "\n",
    "# length of the original loop size\n",
    "b=a/a2b\n",
    "# displacements for the smaller copies\n",
    "d1=a*(1-s1)\n",
    "d3=(s1+s2)*a\n",
    "d2=d1\n",
    "\n",
    "# transforms for each copy\n",
    "\n",
    "# top right\n",
    "M1=affine_transform(S1,[d1,0])\n",
    "#bottom left\n",
    "M2=affine_transform(S1,[0,-d1])\n",
    "# top right small\n",
    "M3=affine_transform(R**3*S2,[d3,-d2])\n",
    "# bottom right small\n",
    "M4=affine_transform(R**2*S2,[d3,-d3])\n",
    "# bottom left small\n",
    "M5=affine_transform(R*S2,[d2,-d3])\n"
   ]
  },
  {
   "cell_type": "code",
   "execution_count": 84,
   "id": "f96a298c",
   "metadata": {},
   "outputs": [],
   "source": [
    "def affine_vector(vs):\n",
    "    \"\"\"Assumes that vs is an array filled with 2d vectors, i.e. either the last dimension is 2 or the lsat two dimensions are 2x1.\n",
    "    Returns an array with the same shape, but each vector is turned into a 3x1 array by concatenating 1 to it.\"\"\"\n",
    "    extra_col=np.ones(shape=list(vs.shape)[:-1]+[1])\n",
    "    result=np.append(vs,extra_col,-1)\n",
    "    if result.shape[-1]>1:\n",
    "        result=np.expand_dims(result,-1)\n",
    "    return result"
   ]
  },
  {
   "cell_type": "code",
   "execution_count": 85,
   "id": "59f85f31",
   "metadata": {},
   "outputs": [],
   "source": [
    "def make_step(lines):\n",
    "    \"\"\"Create all the transformed copies of the fractal by applying the affine transforms to an array of vectors.\"\"\"\n",
    "    lines_shape=lines.shape\n",
    "    lines=np.reshape(lines,(-1,3,1))\n",
    "    results=[np.array(np.matmul(M,lines)) for M in (M1,M2,M3,M4,M5)]\n",
    "    results=[np.reshape(i,lines_shape) for i in results]\n",
    "    return np.concatenate(results)        "
   ]
  },
  {
   "cell_type": "code",
   "execution_count": 89,
   "id": "d77f3ca1",
   "metadata": {},
   "outputs": [],
   "source": [
    "def plot_affine(lines, path=None, title=None):\n",
    "    \"\"\"Plot the list of lines.\n",
    "    Each line has the form \n",
    "    ```\n",
    "    [[[x1],[y1],[1]],\n",
    "    [[x2],[y2],[1]]]\n",
    "    ```.\"\"\"\n",
    "    plt.figure(figsize=(10,10))\n",
    "    plt.gca().set_aspect(1)\n",
    "    for [[[x1],[y1],_],[[x2],[y2],_]] in lines: \n",
    "        plt.plot([x1,x2],[y1,y2],color=\"navy\")\n",
    "        \n",
    "    if title:\n",
    "        plt.title(title)\n",
    "    if not path:\n",
    "        plt.show()\n",
    "    else:\n",
    "        plt.savefig(path)"
   ]
  },
  {
   "cell_type": "code",
   "execution_count": 92,
   "id": "2c40efc2",
   "metadata": {
    "scrolled": false
   },
   "outputs": [
    {
     "name": "stderr",
     "output_type": "stream",
     "text": [
      "100%|██████████| 7/7 [00:45<00:00,  6.53s/it]\n"
     ]
    },
    {
     "data": {
      "text/plain": [
       "<Figure size 720x720 with 0 Axes>"
      ]
     },
     "metadata": {},
     "output_type": "display_data"
    },
    {
     "data": {
      "text/plain": [
       "<Figure size 720x720 with 0 Axes>"
      ]
     },
     "metadata": {},
     "output_type": "display_data"
    },
    {
     "data": {
      "text/plain": [
       "<Figure size 720x720 with 0 Axes>"
      ]
     },
     "metadata": {},
     "output_type": "display_data"
    },
    {
     "data": {
      "text/plain": [
       "<Figure size 720x720 with 0 Axes>"
      ]
     },
     "metadata": {},
     "output_type": "display_data"
    },
    {
     "data": {
      "text/plain": [
       "<Figure size 720x720 with 0 Axes>"
      ]
     },
     "metadata": {},
     "output_type": "display_data"
    },
    {
     "data": {
      "text/plain": [
       "<Figure size 720x720 with 0 Axes>"
      ]
     },
     "metadata": {},
     "output_type": "display_data"
    },
    {
     "data": {
      "text/plain": [
       "<Figure size 720x720 with 0 Axes>"
      ]
     },
     "metadata": {},
     "output_type": "display_data"
    }
   ],
   "source": [
    "# initial lines\n",
    "lines=np.array([[[a,0],[-b,0]],\n",
    "      [[-b,0],[-b,b]],\n",
    "      [[-b,b],[0,b]],\n",
    "      [[0,b],[0,-a]]])\n",
    "\n",
    "lines=affine_vector(lines)\n",
    "\n",
    "for i in trange(7):\n",
    "    plot_affine(lines,f\"imgs/plot_{i}.png\", title=f\"step= {i}\")\n",
    "    plt.clf()\n",
    "    lines=make_step(lines)\n"
   ]
  },
  {
   "cell_type": "code",
   "execution_count": 93,
   "id": "a6053a8d",
   "metadata": {},
   "outputs": [],
   "source": [
    "import imageio\n",
    "from pathlib import Path\n",
    "images = []\n",
    "for filename in sorted(Path(\"imgs\").glob(\"*.png\")):\n",
    "    images.append(imageio.imread(filename))\n",
    "imageio.mimsave('movie.gif', images, duration=1)"
   ]
  },
  {
   "cell_type": "code",
   "execution_count": null,
   "id": "63372824",
   "metadata": {},
   "outputs": [],
   "source": []
  },
  {
   "cell_type": "code",
   "execution_count": null,
   "id": "4ae4c68c",
   "metadata": {},
   "outputs": [],
   "source": []
  },
  {
   "cell_type": "code",
   "execution_count": null,
   "id": "c5acec36",
   "metadata": {},
   "outputs": [],
   "source": []
  },
  {
   "cell_type": "code",
   "execution_count": null,
   "id": "d8cba6b1",
   "metadata": {},
   "outputs": [],
   "source": []
  },
  {
   "cell_type": "code",
   "execution_count": null,
   "id": "683cea48",
   "metadata": {},
   "outputs": [],
   "source": []
  }
 ],
 "metadata": {
  "kernelspec": {
   "display_name": "Python 3",
   "language": "python",
   "name": "python3"
  },
  "language_info": {
   "codemirror_mode": {
    "name": "ipython",
    "version": 3
   },
   "file_extension": ".py",
   "mimetype": "text/x-python",
   "name": "python",
   "nbconvert_exporter": "python",
   "pygments_lexer": "ipython3",
   "version": "3.8.8"
  }
 },
 "nbformat": 4,
 "nbformat_minor": 5
}
